{
  "nbformat": 4,
  "nbformat_minor": 0,
  "metadata": {
    "colab": {
      "name": "titanic_segunda_tentativa.ipynb",
      "provenance": [],
      "collapsed_sections": []
    },
    "kernelspec": {
      "name": "python3",
      "display_name": "Python 3"
    },
    "language_info": {
      "name": "python"
    }
  },
  "cells": [
    {
      "cell_type": "code",
      "execution_count": null,
      "metadata": {
        "id": "345KmZOkcm_h"
      },
      "outputs": [],
      "source": [
        "import pandas as pd\n",
        "import numpy as np\n",
        "\n",
        "base_titanic_inic = pd.read_csv('/content/train.csv')\n",
        "base_teste_inic = pd.read_csv('/content/test.csv')\n",
        "base_titanic_inic"
      ]
    },
    {
      "cell_type": "code",
      "source": [
        "base_titanic_inic.isnull().sum()"
      ],
      "metadata": {
        "id": "3G4F5YPZfYJF"
      },
      "execution_count": null,
      "outputs": []
    },
    {
      "cell_type": "code",
      "source": [
        "base_titanic_inic = base_titanic_inic.drop(['PassengerId', 'Cabin'], axis=1)\n",
        "base_titanic_inic"
      ],
      "metadata": {
        "id": "EXVBNQHIfHbQ"
      },
      "execution_count": null,
      "outputs": []
    },
    {
      "cell_type": "code",
      "source": [
        "base_teste_inic = base_teste_inic.drop(['PassengerId', 'Cabin'], axis=1)\n",
        "base_teste_inic"
      ],
      "metadata": {
        "id": "gU2z5pTLfxwa"
      },
      "execution_count": null,
      "outputs": []
    },
    {
      "cell_type": "code",
      "source": [
        "# Identificando os indices das pessoas que estão sem o dado da idade temos:\n",
        "base_titanic_inic.loc[base_titanic_inic['Age'].isnull()]"
      ],
      "metadata": {
        "id": "W9Var9wHh4iH"
      },
      "execution_count": null,
      "outputs": []
    },
    {
      "cell_type": "code",
      "source": [
        "# Calculando a média de cada tipo de Embarked para os valores null que encontramos:\n",
        "media_idade_Q = base_titanic_inic['Age'][(base_titanic_inic['Age'] > 0) & (base_titanic_inic['Embarked'] == 'Q')].mean()\n",
        "media_idade_Q"
      ],
      "metadata": {
        "colab": {
          "base_uri": "https://localhost:8080/"
        },
        "id": "kfKbr886iegv",
        "outputId": "b3aa56df-004c-40d6-cbd3-96b37ed01c2d"
      },
      "execution_count": 89,
      "outputs": [
        {
          "output_type": "execute_result",
          "data": {
            "text/plain": [
              "28.089285714285715"
            ]
          },
          "metadata": {},
          "execution_count": 89
        }
      ]
    },
    {
      "cell_type": "code",
      "source": [
        "media_idade_S = base_titanic_inic['Age'][(base_titanic_inic['Age'] > 0) & (base_titanic_inic['Embarked'] == 'S')].mean()\n",
        "media_idade_S"
      ],
      "metadata": {
        "colab": {
          "base_uri": "https://localhost:8080/"
        },
        "id": "PBiYUlyhkxUj",
        "outputId": "8f97dce0-5bd4-4a4e-ff4e-e819d5e3a457"
      },
      "execution_count": 90,
      "outputs": [
        {
          "output_type": "execute_result",
          "data": {
            "text/plain": [
              "29.44539711191336"
            ]
          },
          "metadata": {},
          "execution_count": 90
        }
      ]
    },
    {
      "cell_type": "code",
      "source": [
        "media_idade_C = base_titanic_inic['Age'][(base_titanic_inic['Age'] > 0) & (base_titanic_inic['Embarked'] == 'C')].mean()\n",
        "media_idade_C"
      ],
      "metadata": {
        "colab": {
          "base_uri": "https://localhost:8080/"
        },
        "id": "B-8A28u9k2xX",
        "outputId": "140eac27-8f85-4912-8c0e-8cc6fcfe3687"
      },
      "execution_count": 91,
      "outputs": [
        {
          "output_type": "execute_result",
          "data": {
            "text/plain": [
              "30.81476923076923"
            ]
          },
          "metadata": {},
          "execution_count": 91
        }
      ]
    },
    {
      "cell_type": "code",
      "source": [
        "base_titanic_inic.loc[(base_titanic_inic['Age'].isnull()) & (base_titanic_inic['Embarked'] == 'Q'), 'Age'] = media_idade_Q\n",
        "base_titanic_inic.loc[(base_titanic_inic['Age'].isnull()) & (base_titanic_inic['Embarked'] == 'C'), 'Age'] = media_idade_C\n",
        "base_titanic_inic.loc[(base_titanic_inic['Age'].isnull()) & (base_titanic_inic['Embarked'] == 'S'), 'Age'] = media_idade_S"
      ],
      "metadata": {
        "id": "nPifmSdxl7XQ"
      },
      "execution_count": 92,
      "outputs": []
    },
    {
      "cell_type": "code",
      "source": [
        "base_titanic_inic.head(30)"
      ],
      "metadata": {
        "id": "jFfHJxvPos_X"
      },
      "execution_count": null,
      "outputs": []
    },
    {
      "cell_type": "code",
      "source": [
        "base_teste_inic.isnull().sum()"
      ],
      "metadata": {
        "id": "MlBvEd1NpD63"
      },
      "execution_count": null,
      "outputs": []
    },
    {
      "cell_type": "code",
      "source": [
        "base_teste_inic.loc[base_teste_inic['Age'].isnull()]"
      ],
      "metadata": {
        "id": "vc0bu2K7rAnG"
      },
      "execution_count": null,
      "outputs": []
    },
    {
      "cell_type": "code",
      "source": [
        "media_idade_Q_teste = base_teste_inic['Age'][(base_teste_inic['Age'] > 0) & (base_teste_inic['Embarked'] == 'Q')].mean()\n",
        "media_idade_Q_teste"
      ],
      "metadata": {
        "id": "1lR_A5crpkak"
      },
      "execution_count": null,
      "outputs": []
    },
    {
      "cell_type": "code",
      "source": [
        "media_idade_S_teste = base_teste_inic['Age'][(base_teste_inic['Age'] > 0) & (base_teste_inic['Embarked'] == 'S')].mean()\n",
        "media_idade_S_teste"
      ],
      "metadata": {
        "id": "f2gHV3iCp5W3"
      },
      "execution_count": null,
      "outputs": []
    },
    {
      "cell_type": "code",
      "source": [
        "media_idade_C_teste = base_teste_inic['Age'][(base_teste_inic['Age'] > 0) & (base_teste_inic['Embarked'] == 'C')].mean()\n",
        "media_idade_C_teste"
      ],
      "metadata": {
        "id": "l8cN8mgoqAHl"
      },
      "execution_count": null,
      "outputs": []
    },
    {
      "cell_type": "code",
      "source": [
        "base_teste_inic.loc[(base_teste_inic['Age'].isnull()) & (base_teste_inic['Embarked'] == 'Q'), 'Age'] = media_idade_Q_teste"
      ],
      "metadata": {
        "id": "6huhhrIApMPN"
      },
      "execution_count": 99,
      "outputs": []
    },
    {
      "cell_type": "code",
      "source": [
        "base_teste_inic.loc[(base_teste_inic['Age'].isnull()) & (base_teste_inic['Embarked'] == 'S'), 'Age'] = media_idade_S_teste"
      ],
      "metadata": {
        "id": "fMDu274MqEYF"
      },
      "execution_count": 100,
      "outputs": []
    },
    {
      "cell_type": "code",
      "source": [
        "base_teste_inic.loc[(base_teste_inic['Age'].isnull()) & (base_teste_inic['Embarked'] == 'C'), 'Age'] = media_idade_C_teste"
      ],
      "metadata": {
        "id": "NCNPAJmFqE2V"
      },
      "execution_count": 101,
      "outputs": []
    },
    {
      "cell_type": "code",
      "source": [
        "base_teste_inic.head(11)"
      ],
      "metadata": {
        "id": "DQFw2jv6qI78"
      },
      "execution_count": null,
      "outputs": []
    },
    {
      "cell_type": "code",
      "source": [
        "base_teste_inic['Parch'].loc[base_teste_inic['Parch'] == 9] = 0"
      ],
      "metadata": {
        "id": "3SCFtFnKFsEL"
      },
      "execution_count": null,
      "outputs": []
    },
    {
      "cell_type": "code",
      "source": [
        "base_teste_inic.loc[base_teste_inic['Parch'] == 9]"
      ],
      "metadata": {
        "id": "dx5LXjISGhgB"
      },
      "execution_count": null,
      "outputs": []
    },
    {
      "cell_type": "code",
      "source": [
        "media_Fare_teste = base_teste_inic['Fare'].loc[base_teste_inic['Fare'] > 0].mean()\n",
        "media_Fare_teste"
      ],
      "metadata": {
        "colab": {
          "base_uri": "https://localhost:8080/"
        },
        "id": "Zpd9zpzhqoce",
        "outputId": "6ce70d1f-bacc-4c02-c3f2-b16578a153c1"
      },
      "execution_count": 105,
      "outputs": [
        {
          "output_type": "execute_result",
          "data": {
            "text/plain": [
              "35.798885783132526"
            ]
          },
          "metadata": {},
          "execution_count": 105
        }
      ]
    },
    {
      "cell_type": "code",
      "source": [
        "base_teste_inic.loc[(base_teste_inic['Fare'].isnull()), 'Fare'] = media_Fare_teste"
      ],
      "metadata": {
        "id": "TzF4OBl5slIN"
      },
      "execution_count": 106,
      "outputs": []
    },
    {
      "cell_type": "code",
      "source": [
        "base_teste_inic.isnull().sum()"
      ],
      "metadata": {
        "id": "79YczfNosutO"
      },
      "execution_count": null,
      "outputs": []
    },
    {
      "cell_type": "code",
      "source": [
        "base_titanic_inic.isnull().sum()"
      ],
      "metadata": {
        "id": "XNuAhQCSs8a3"
      },
      "execution_count": null,
      "outputs": []
    },
    {
      "cell_type": "code",
      "source": [
        "# Localizando os valores nulos relacionado a 'Embarked'\n",
        "base_titanic_inic['Embarked'].loc[base_titanic_inic['Embarked'].isnull()] = 'S'"
      ],
      "metadata": {
        "id": "CnuDq0JotAuW"
      },
      "execution_count": null,
      "outputs": []
    },
    {
      "cell_type": "code",
      "source": [
        "# Localizando se há mais alguma elemento com Ticket igual a 113572\n",
        "base_titanic_inic.loc[base_titanic_inic['Ticket'] == '113572']"
      ],
      "metadata": {
        "id": "ymrF6k7Jt1fO"
      },
      "execution_count": null,
      "outputs": []
    },
    {
      "cell_type": "code",
      "source": [
        "nomes = base_titanic_inic['Name'].values\n",
        "sobrenomes = []\n",
        "for i in range(891):\n",
        "  sobrenomes.append(nomes[i][0:nomes[i].index(',')])\n",
        "sobrenomes"
      ],
      "metadata": {
        "id": "frbV-TMtv1AN"
      },
      "execution_count": null,
      "outputs": []
    },
    {
      "cell_type": "code",
      "source": [
        "base_titanic_sobrenome = base_titanic_inic.assign(Sobrenome=sobrenomes)"
      ],
      "metadata": {
        "id": "oROccvqY6OG2"
      },
      "execution_count": 112,
      "outputs": []
    },
    {
      "cell_type": "code",
      "source": [
        "base_titanic_sobrenome = base_titanic_sobrenome.drop('Name', axis=1)\n",
        "base_titanic_sobrenome.head(2)"
      ],
      "metadata": {
        "id": "SurA7L796jPm"
      },
      "execution_count": null,
      "outputs": []
    },
    {
      "cell_type": "code",
      "source": [
        "base_titanic_sobrenome = base_titanic_sobrenome[['Pclass', 'Sobrenome', 'Sex', 'Age', 'SibSp', 'Parch', 'Ticket', 'Fare', 'Embarked', 'Survived']]\n",
        "base_titanic_sobrenome"
      ],
      "metadata": {
        "id": "hoST3f3P6y2O"
      },
      "execution_count": null,
      "outputs": []
    },
    {
      "cell_type": "code",
      "source": [
        "nomes_teste = base_teste_inic['Name'].values\n",
        "nomes_teste"
      ],
      "metadata": {
        "id": "6CAwrVz97WVv"
      },
      "execution_count": null,
      "outputs": []
    },
    {
      "cell_type": "code",
      "source": [
        "sobrenomes_teste = []\n",
        "for i in range(418):\n",
        "  sobrenomes_teste.append(nomes_teste[i][0:nomes_teste[i].index(',')])\n",
        "sobrenomes_teste"
      ],
      "metadata": {
        "id": "j7hzBn3X7lMW"
      },
      "execution_count": null,
      "outputs": []
    },
    {
      "cell_type": "code",
      "source": [
        "base_teste_sobrenome = base_teste_inic.assign(Sobrenome=sobrenomes_teste)"
      ],
      "metadata": {
        "id": "k4mMu3Yr7ztV"
      },
      "execution_count": null,
      "outputs": []
    },
    {
      "cell_type": "code",
      "source": [
        "base_teste_sobrenome = base_teste_sobrenome.drop('Name', axis=1)\n",
        "base_teste_sobrenome"
      ],
      "metadata": {
        "id": "J68-Ay4H7-1d",
        "colab": {
          "base_uri": "https://localhost:8080/",
          "height": 328
        },
        "outputId": "798a262b-5f35-400a-d5ad-abec949e8a15"
      },
      "execution_count": 117,
      "outputs": [
        {
          "output_type": "error",
          "ename": "KeyError",
          "evalue": "ignored",
          "traceback": [
            "\u001b[0;31m---------------------------------------------------------------------------\u001b[0m",
            "\u001b[0;31mKeyError\u001b[0m                                  Traceback (most recent call last)",
            "\u001b[0;32m<ipython-input-117-f942334f63f5>\u001b[0m in \u001b[0;36m<module>\u001b[0;34m()\u001b[0m\n\u001b[0;32m----> 1\u001b[0;31m \u001b[0mbase_teste_sobrenome\u001b[0m \u001b[0;34m=\u001b[0m \u001b[0mbase_teste_sobrenome\u001b[0m\u001b[0;34m.\u001b[0m\u001b[0mdrop\u001b[0m\u001b[0;34m(\u001b[0m\u001b[0;34m'Name'\u001b[0m\u001b[0;34m,\u001b[0m \u001b[0maxis\u001b[0m\u001b[0;34m=\u001b[0m\u001b[0;36m1\u001b[0m\u001b[0;34m)\u001b[0m\u001b[0;34m\u001b[0m\u001b[0;34m\u001b[0m\u001b[0m\n\u001b[0m\u001b[1;32m      2\u001b[0m \u001b[0mbase_teste_sobrenome\u001b[0m\u001b[0;34m\u001b[0m\u001b[0;34m\u001b[0m\u001b[0m\n",
            "\u001b[0;32m/usr/local/lib/python3.7/dist-packages/pandas/util/_decorators.py\u001b[0m in \u001b[0;36mwrapper\u001b[0;34m(*args, **kwargs)\u001b[0m\n\u001b[1;32m    309\u001b[0m                     \u001b[0mstacklevel\u001b[0m\u001b[0;34m=\u001b[0m\u001b[0mstacklevel\u001b[0m\u001b[0;34m,\u001b[0m\u001b[0;34m\u001b[0m\u001b[0;34m\u001b[0m\u001b[0m\n\u001b[1;32m    310\u001b[0m                 )\n\u001b[0;32m--> 311\u001b[0;31m             \u001b[0;32mreturn\u001b[0m \u001b[0mfunc\u001b[0m\u001b[0;34m(\u001b[0m\u001b[0;34m*\u001b[0m\u001b[0margs\u001b[0m\u001b[0;34m,\u001b[0m \u001b[0;34m**\u001b[0m\u001b[0mkwargs\u001b[0m\u001b[0;34m)\u001b[0m\u001b[0;34m\u001b[0m\u001b[0;34m\u001b[0m\u001b[0m\n\u001b[0m\u001b[1;32m    312\u001b[0m \u001b[0;34m\u001b[0m\u001b[0m\n\u001b[1;32m    313\u001b[0m         \u001b[0;32mreturn\u001b[0m \u001b[0mwrapper\u001b[0m\u001b[0;34m\u001b[0m\u001b[0;34m\u001b[0m\u001b[0m\n",
            "\u001b[0;32m/usr/local/lib/python3.7/dist-packages/pandas/core/frame.py\u001b[0m in \u001b[0;36mdrop\u001b[0;34m(self, labels, axis, index, columns, level, inplace, errors)\u001b[0m\n\u001b[1;32m   4911\u001b[0m             \u001b[0mlevel\u001b[0m\u001b[0;34m=\u001b[0m\u001b[0mlevel\u001b[0m\u001b[0;34m,\u001b[0m\u001b[0;34m\u001b[0m\u001b[0;34m\u001b[0m\u001b[0m\n\u001b[1;32m   4912\u001b[0m             \u001b[0minplace\u001b[0m\u001b[0;34m=\u001b[0m\u001b[0minplace\u001b[0m\u001b[0;34m,\u001b[0m\u001b[0;34m\u001b[0m\u001b[0;34m\u001b[0m\u001b[0m\n\u001b[0;32m-> 4913\u001b[0;31m             \u001b[0merrors\u001b[0m\u001b[0;34m=\u001b[0m\u001b[0merrors\u001b[0m\u001b[0;34m,\u001b[0m\u001b[0;34m\u001b[0m\u001b[0;34m\u001b[0m\u001b[0m\n\u001b[0m\u001b[1;32m   4914\u001b[0m         )\n\u001b[1;32m   4915\u001b[0m \u001b[0;34m\u001b[0m\u001b[0m\n",
            "\u001b[0;32m/usr/local/lib/python3.7/dist-packages/pandas/core/generic.py\u001b[0m in \u001b[0;36mdrop\u001b[0;34m(self, labels, axis, index, columns, level, inplace, errors)\u001b[0m\n\u001b[1;32m   4148\u001b[0m         \u001b[0;32mfor\u001b[0m \u001b[0maxis\u001b[0m\u001b[0;34m,\u001b[0m \u001b[0mlabels\u001b[0m \u001b[0;32min\u001b[0m \u001b[0maxes\u001b[0m\u001b[0;34m.\u001b[0m\u001b[0mitems\u001b[0m\u001b[0;34m(\u001b[0m\u001b[0;34m)\u001b[0m\u001b[0;34m:\u001b[0m\u001b[0;34m\u001b[0m\u001b[0;34m\u001b[0m\u001b[0m\n\u001b[1;32m   4149\u001b[0m             \u001b[0;32mif\u001b[0m \u001b[0mlabels\u001b[0m \u001b[0;32mis\u001b[0m \u001b[0;32mnot\u001b[0m \u001b[0;32mNone\u001b[0m\u001b[0;34m:\u001b[0m\u001b[0;34m\u001b[0m\u001b[0;34m\u001b[0m\u001b[0m\n\u001b[0;32m-> 4150\u001b[0;31m                 \u001b[0mobj\u001b[0m \u001b[0;34m=\u001b[0m \u001b[0mobj\u001b[0m\u001b[0;34m.\u001b[0m\u001b[0m_drop_axis\u001b[0m\u001b[0;34m(\u001b[0m\u001b[0mlabels\u001b[0m\u001b[0;34m,\u001b[0m \u001b[0maxis\u001b[0m\u001b[0;34m,\u001b[0m \u001b[0mlevel\u001b[0m\u001b[0;34m=\u001b[0m\u001b[0mlevel\u001b[0m\u001b[0;34m,\u001b[0m \u001b[0merrors\u001b[0m\u001b[0;34m=\u001b[0m\u001b[0merrors\u001b[0m\u001b[0;34m)\u001b[0m\u001b[0;34m\u001b[0m\u001b[0;34m\u001b[0m\u001b[0m\n\u001b[0m\u001b[1;32m   4151\u001b[0m \u001b[0;34m\u001b[0m\u001b[0m\n\u001b[1;32m   4152\u001b[0m         \u001b[0;32mif\u001b[0m \u001b[0minplace\u001b[0m\u001b[0;34m:\u001b[0m\u001b[0;34m\u001b[0m\u001b[0;34m\u001b[0m\u001b[0m\n",
            "\u001b[0;32m/usr/local/lib/python3.7/dist-packages/pandas/core/generic.py\u001b[0m in \u001b[0;36m_drop_axis\u001b[0;34m(self, labels, axis, level, errors)\u001b[0m\n\u001b[1;32m   4183\u001b[0m                 \u001b[0mnew_axis\u001b[0m \u001b[0;34m=\u001b[0m \u001b[0maxis\u001b[0m\u001b[0;34m.\u001b[0m\u001b[0mdrop\u001b[0m\u001b[0;34m(\u001b[0m\u001b[0mlabels\u001b[0m\u001b[0;34m,\u001b[0m \u001b[0mlevel\u001b[0m\u001b[0;34m=\u001b[0m\u001b[0mlevel\u001b[0m\u001b[0;34m,\u001b[0m \u001b[0merrors\u001b[0m\u001b[0;34m=\u001b[0m\u001b[0merrors\u001b[0m\u001b[0;34m)\u001b[0m\u001b[0;34m\u001b[0m\u001b[0;34m\u001b[0m\u001b[0m\n\u001b[1;32m   4184\u001b[0m             \u001b[0;32melse\u001b[0m\u001b[0;34m:\u001b[0m\u001b[0;34m\u001b[0m\u001b[0;34m\u001b[0m\u001b[0m\n\u001b[0;32m-> 4185\u001b[0;31m                 \u001b[0mnew_axis\u001b[0m \u001b[0;34m=\u001b[0m \u001b[0maxis\u001b[0m\u001b[0;34m.\u001b[0m\u001b[0mdrop\u001b[0m\u001b[0;34m(\u001b[0m\u001b[0mlabels\u001b[0m\u001b[0;34m,\u001b[0m \u001b[0merrors\u001b[0m\u001b[0;34m=\u001b[0m\u001b[0merrors\u001b[0m\u001b[0;34m)\u001b[0m\u001b[0;34m\u001b[0m\u001b[0;34m\u001b[0m\u001b[0m\n\u001b[0m\u001b[1;32m   4186\u001b[0m             \u001b[0mresult\u001b[0m \u001b[0;34m=\u001b[0m \u001b[0mself\u001b[0m\u001b[0;34m.\u001b[0m\u001b[0mreindex\u001b[0m\u001b[0;34m(\u001b[0m\u001b[0;34m**\u001b[0m\u001b[0;34m{\u001b[0m\u001b[0maxis_name\u001b[0m\u001b[0;34m:\u001b[0m \u001b[0mnew_axis\u001b[0m\u001b[0;34m}\u001b[0m\u001b[0;34m)\u001b[0m\u001b[0;34m\u001b[0m\u001b[0;34m\u001b[0m\u001b[0m\n\u001b[1;32m   4187\u001b[0m \u001b[0;34m\u001b[0m\u001b[0m\n",
            "\u001b[0;32m/usr/local/lib/python3.7/dist-packages/pandas/core/indexes/base.py\u001b[0m in \u001b[0;36mdrop\u001b[0;34m(self, labels, errors)\u001b[0m\n\u001b[1;32m   6015\u001b[0m         \u001b[0;32mif\u001b[0m \u001b[0mmask\u001b[0m\u001b[0;34m.\u001b[0m\u001b[0many\u001b[0m\u001b[0;34m(\u001b[0m\u001b[0;34m)\u001b[0m\u001b[0;34m:\u001b[0m\u001b[0;34m\u001b[0m\u001b[0;34m\u001b[0m\u001b[0m\n\u001b[1;32m   6016\u001b[0m             \u001b[0;32mif\u001b[0m \u001b[0merrors\u001b[0m \u001b[0;34m!=\u001b[0m \u001b[0;34m\"ignore\"\u001b[0m\u001b[0;34m:\u001b[0m\u001b[0;34m\u001b[0m\u001b[0;34m\u001b[0m\u001b[0m\n\u001b[0;32m-> 6017\u001b[0;31m                 \u001b[0;32mraise\u001b[0m \u001b[0mKeyError\u001b[0m\u001b[0;34m(\u001b[0m\u001b[0;34mf\"{labels[mask]} not found in axis\"\u001b[0m\u001b[0;34m)\u001b[0m\u001b[0;34m\u001b[0m\u001b[0;34m\u001b[0m\u001b[0m\n\u001b[0m\u001b[1;32m   6018\u001b[0m             \u001b[0mindexer\u001b[0m \u001b[0;34m=\u001b[0m \u001b[0mindexer\u001b[0m\u001b[0;34m[\u001b[0m\u001b[0;34m~\u001b[0m\u001b[0mmask\u001b[0m\u001b[0;34m]\u001b[0m\u001b[0;34m\u001b[0m\u001b[0;34m\u001b[0m\u001b[0m\n\u001b[1;32m   6019\u001b[0m         \u001b[0;32mreturn\u001b[0m \u001b[0mself\u001b[0m\u001b[0;34m.\u001b[0m\u001b[0mdelete\u001b[0m\u001b[0;34m(\u001b[0m\u001b[0mindexer\u001b[0m\u001b[0;34m)\u001b[0m\u001b[0;34m\u001b[0m\u001b[0;34m\u001b[0m\u001b[0m\n",
            "\u001b[0;31mKeyError\u001b[0m: \"['Name'] not found in axis\""
          ]
        }
      ]
    },
    {
      "cell_type": "code",
      "source": [
        "base_teste_sobrenome = base_teste_sobrenome[['Pclass', 'Sobrenome', 'Sex', 'Age', 'SibSp', 'Parch', 'Ticket', 'Fare', 'Embarked']]\n",
        "base_teste_sobrenome"
      ],
      "metadata": {
        "id": "-N4cqrVO8Mcm"
      },
      "execution_count": null,
      "outputs": []
    },
    {
      "cell_type": "code",
      "source": [
        "base_titanic_sobrenome"
      ],
      "metadata": {
        "id": "fnROkbyK8kzO"
      },
      "execution_count": null,
      "outputs": []
    },
    {
      "cell_type": "code",
      "source": [
        "np.unique(base_titanic_sobrenome['Sobrenome'], return_counts=True)"
      ],
      "metadata": {
        "id": "-TaIPtiO9nxs"
      },
      "execution_count": null,
      "outputs": []
    },
    {
      "cell_type": "code",
      "source": [
        "x = base_titanic_sobrenome.iloc[:, 0:9].values\n",
        "y = base_titanic_sobrenome.iloc[:, 9].values"
      ],
      "metadata": {
        "id": "PoZIk4d_-e42"
      },
      "execution_count": 121,
      "outputs": []
    },
    {
      "cell_type": "code",
      "source": [
        "x, y"
      ],
      "metadata": {
        "id": "aAIKL10_-uIG"
      },
      "execution_count": null,
      "outputs": []
    },
    {
      "cell_type": "code",
      "source": [
        "x_teste = base_teste_sobrenome.iloc[:, 0:9].values\n",
        "x_teste"
      ],
      "metadata": {
        "id": "ykcswmXl-xsu"
      },
      "execution_count": null,
      "outputs": []
    },
    {
      "cell_type": "code",
      "source": [
        "from sklearn.preprocessing import LabelEncoder\n",
        "label_encoder_sobrenome = LabelEncoder()\n",
        "label_encoder_sexo = LabelEncoder()\n",
        "label_encoder_ticket = LabelEncoder()\n",
        "label_encoder_embarked = LabelEncoder()\n",
        "label_encoder_sobrenome_teste = LabelEncoder()\n",
        "label_encoder_sexo_teste = LabelEncoder()\n",
        "label_encoder_ticket_teste = LabelEncoder()\n",
        "label_encoder_embarked_teste = LabelEncoder()"
      ],
      "metadata": {
        "id": "MeForGcx_X4s"
      },
      "execution_count": 124,
      "outputs": []
    },
    {
      "cell_type": "code",
      "source": [
        "x[:, 1] = label_encoder_sobrenome.fit_transform(x[:, 1])\n",
        "x[:, 2] = label_encoder_sexo.fit_transform(x[:, 2])\n",
        "x[:, 6] = label_encoder_ticket.fit_transform(x[:, 6])\n",
        "x[:, 8] = label_encoder_embarked.fit_transform(x[:, 8])"
      ],
      "metadata": {
        "id": "Nk8aWVpy_5vk"
      },
      "execution_count": 125,
      "outputs": []
    },
    {
      "cell_type": "code",
      "source": [
        "x_teste[:, 1] = label_encoder_sobrenome_teste.fit_transform(x_teste[:, 1])\n",
        "x_teste[:, 2] = label_encoder_sexo_teste.fit_transform(x_teste[:, 2])\n",
        "x_teste[:, 6] = label_encoder_ticket_teste.fit_transform(x_teste[:, 6])\n",
        "x_teste[:, 8] = label_encoder_embarked_teste.fit_transform(x_teste[:, 8])"
      ],
      "metadata": {
        "id": "eNyze1ZxAS1-"
      },
      "execution_count": 126,
      "outputs": []
    },
    {
      "cell_type": "code",
      "source": [
        "x, x_teste"
      ],
      "metadata": {
        "id": "ry9iKwPGAsR9"
      },
      "execution_count": null,
      "outputs": []
    },
    {
      "cell_type": "code",
      "source": [
        "from sklearn.preprocessing import OneHotEncoder\n",
        "from sklearn.compose import ColumnTransformer"
      ],
      "metadata": {
        "id": "xACVu9V0DhJk"
      },
      "execution_count": 128,
      "outputs": []
    },
    {
      "cell_type": "code",
      "source": [
        "onehotencoder_titanic = ColumnTransformer(transformers=[('OneHot', OneHotEncoder(), [0, 4, 5, 8])], remainder='passthrough')"
      ],
      "metadata": {
        "id": "nHIgz998Dlkz"
      },
      "execution_count": 129,
      "outputs": []
    },
    {
      "cell_type": "code",
      "source": [
        "onehotencoder_titanic_teste = ColumnTransformer(transformers=[('OneHot', OneHotEncoder(), [0, 4, 5, 8])], remainder='passthrough')"
      ],
      "metadata": {
        "id": "bM4jXAGPEBgr"
      },
      "execution_count": 130,
      "outputs": []
    },
    {
      "cell_type": "code",
      "source": [
        "x = onehotencoder_titanic.fit_transform(x)"
      ],
      "metadata": {
        "id": "sipG6KUOEI-D"
      },
      "execution_count": 131,
      "outputs": []
    },
    {
      "cell_type": "code",
      "source": [
        "x_teste = onehotencoder_titanic_teste.fit_transform(x_teste)"
      ],
      "metadata": {
        "id": "bhKeJ6NpEZPq"
      },
      "execution_count": 132,
      "outputs": []
    },
    {
      "cell_type": "code",
      "source": [
        "x, x_teste"
      ],
      "metadata": {
        "id": "OY8fM2jIEhVK"
      },
      "execution_count": null,
      "outputs": []
    },
    {
      "cell_type": "code",
      "source": [
        "from sklearn.preprocessing import StandardScaler\n",
        "scaler_titanic = StandardScaler()\n",
        "scaler_titanic_teste = StandardScaler()"
      ],
      "metadata": {
        "id": "QYF4yOaLEmHa"
      },
      "execution_count": 134,
      "outputs": []
    },
    {
      "cell_type": "code",
      "source": [
        "x = scaler_titanic.fit_transform(x)\n",
        "x_teste = scaler_titanic_teste.fit_transform(x_teste)"
      ],
      "metadata": {
        "id": "fUNYqSf2EyOS"
      },
      "execution_count": 135,
      "outputs": []
    },
    {
      "cell_type": "code",
      "source": [
        "x, x_teste"
      ],
      "metadata": {
        "id": "u1GVaaz3E-N6"
      },
      "execution_count": null,
      "outputs": []
    },
    {
      "cell_type": "code",
      "source": [
        "x[0], x_teste[0]"
      ],
      "metadata": {
        "id": "5u3UYfdlFJas"
      },
      "execution_count": null,
      "outputs": []
    },
    {
      "cell_type": "code",
      "source": [
        "from sklearn.ensemble import RandomForestClassifier"
      ],
      "metadata": {
        "id": "9zw8p-NZFMRz"
      },
      "execution_count": 138,
      "outputs": []
    },
    {
      "cell_type": "code",
      "source": [
        "random_forest_titanic = RandomForestClassifier(n_estimators=1000, criterion='entropy', random_state = 0)\n",
        "random_forest_titanic.fit(x, y)"
      ],
      "metadata": {
        "colab": {
          "base_uri": "https://localhost:8080/"
        },
        "id": "lQSENRcoFRFy",
        "outputId": "883127e5-7818-43a2-fbe7-4d3c81fb240f"
      },
      "execution_count": 140,
      "outputs": [
        {
          "output_type": "execute_result",
          "data": {
            "text/plain": [
              "RandomForestClassifier(criterion='entropy', n_estimators=1000, random_state=0)"
            ]
          },
          "metadata": {},
          "execution_count": 140
        }
      ]
    },
    {
      "cell_type": "code",
      "source": [
        "previsoes = random_forest_titanic.predict(x_teste)\n",
        "previsoes"
      ],
      "metadata": {
        "colab": {
          "base_uri": "https://localhost:8080/"
        },
        "id": "fQ-SuZp0FZD6",
        "outputId": "12000100-85ff-4c15-b187-5c27e3301245"
      },
      "execution_count": 141,
      "outputs": [
        {
          "output_type": "execute_result",
          "data": {
            "text/plain": [
              "array([0, 0, 0, 0, 0, 0, 0, 0, 1, 0, 0, 0, 1, 0, 1, 1, 0, 0, 0, 0, 0, 0,\n",
              "       1, 0, 1, 0, 1, 0, 0, 0, 0, 0, 0, 0, 1, 0, 1, 0, 0, 0, 0, 0, 0, 1,\n",
              "       1, 0, 0, 0, 1, 0, 1, 0, 1, 1, 0, 0, 0, 0, 0, 1, 0, 0, 0, 0, 0, 1,\n",
              "       1, 0, 0, 1, 1, 0, 1, 0, 1, 0, 0, 1, 0, 1, 1, 0, 0, 0, 0, 0, 1, 1,\n",
              "       1, 1, 0, 0, 1, 0, 1, 0, 1, 0, 1, 0, 1, 0, 0, 0, 1, 0, 0, 0, 0, 0,\n",
              "       0, 0, 1, 0, 1, 0, 0, 1, 1, 1, 1, 0, 1, 0, 0, 1, 0, 1, 0, 0, 0, 0,\n",
              "       0, 0, 0, 0, 0, 0, 1, 0, 0, 1, 0, 0, 0, 0, 0, 0, 0, 0, 1, 0, 0, 1,\n",
              "       0, 0, 1, 1, 0, 1, 0, 1, 1, 0, 0, 0, 0, 0, 1, 0, 0, 0, 0, 0, 0, 1,\n",
              "       1, 1, 1, 1, 0, 1, 1, 0, 1, 0, 1, 0, 0, 0, 0, 0, 0, 0, 1, 0, 1, 1,\n",
              "       0, 0, 1, 1, 0, 1, 0, 0, 0, 0, 1, 0, 0, 0, 0, 1, 0, 0, 1, 0, 1, 0,\n",
              "       1, 0, 1, 0, 1, 1, 0, 1, 0, 0, 0, 1, 0, 0, 1, 0, 0, 0, 1, 1, 1, 1,\n",
              "       0, 0, 0, 1, 1, 0, 1, 0, 1, 0, 1, 0, 0, 0, 0, 0, 1, 0, 0, 0, 1, 1,\n",
              "       0, 0, 0, 0, 1, 0, 0, 0, 1, 1, 0, 1, 0, 0, 0, 0, 0, 1, 1, 1, 1, 0,\n",
              "       0, 1, 0, 0, 0, 0, 0, 0, 0, 0, 1, 0, 0, 0, 0, 0, 0, 0, 1, 1, 1, 1,\n",
              "       0, 0, 0, 0, 0, 0, 1, 1, 0, 0, 0, 0, 0, 0, 0, 0, 1, 0, 1, 0, 0, 0,\n",
              "       1, 0, 0, 1, 0, 0, 1, 0, 0, 0, 0, 0, 0, 1, 0, 1, 0, 0, 0, 1, 1, 0,\n",
              "       0, 0, 1, 0, 1, 0, 0, 0, 0, 1, 1, 0, 1, 0, 0, 0, 1, 0, 0, 1, 0, 0,\n",
              "       1, 1, 0, 0, 0, 0, 0, 0, 1, 0, 0, 1, 0, 0, 0, 0, 0, 1, 0, 0, 0, 1,\n",
              "       0, 1, 0, 0, 1, 0, 1, 0, 1, 0, 0, 0, 0, 1, 1, 1, 1, 0, 1, 0, 0, 1])"
            ]
          },
          "metadata": {},
          "execution_count": 141
        }
      ]
    },
    {
      "cell_type": "code",
      "source": [
        "data = []\n",
        "for i in range(418):\n",
        "  data.append([i + 892, previsoes[i]])\n",
        "data"
      ],
      "metadata": {
        "colab": {
          "base_uri": "https://localhost:8080/"
        },
        "id": "FkMasBydHMUL",
        "outputId": "c2b514e8-1b3c-4a17-f39e-349585e329e4"
      },
      "execution_count": 142,
      "outputs": [
        {
          "output_type": "execute_result",
          "data": {
            "text/plain": [
              "[[892, 0],\n",
              " [893, 0],\n",
              " [894, 0],\n",
              " [895, 0],\n",
              " [896, 0],\n",
              " [897, 0],\n",
              " [898, 0],\n",
              " [899, 0],\n",
              " [900, 1],\n",
              " [901, 0],\n",
              " [902, 0],\n",
              " [903, 0],\n",
              " [904, 1],\n",
              " [905, 0],\n",
              " [906, 1],\n",
              " [907, 1],\n",
              " [908, 0],\n",
              " [909, 0],\n",
              " [910, 0],\n",
              " [911, 0],\n",
              " [912, 0],\n",
              " [913, 0],\n",
              " [914, 1],\n",
              " [915, 0],\n",
              " [916, 1],\n",
              " [917, 0],\n",
              " [918, 1],\n",
              " [919, 0],\n",
              " [920, 0],\n",
              " [921, 0],\n",
              " [922, 0],\n",
              " [923, 0],\n",
              " [924, 0],\n",
              " [925, 0],\n",
              " [926, 1],\n",
              " [927, 0],\n",
              " [928, 1],\n",
              " [929, 0],\n",
              " [930, 0],\n",
              " [931, 0],\n",
              " [932, 0],\n",
              " [933, 0],\n",
              " [934, 0],\n",
              " [935, 1],\n",
              " [936, 1],\n",
              " [937, 0],\n",
              " [938, 0],\n",
              " [939, 0],\n",
              " [940, 1],\n",
              " [941, 0],\n",
              " [942, 1],\n",
              " [943, 0],\n",
              " [944, 1],\n",
              " [945, 1],\n",
              " [946, 0],\n",
              " [947, 0],\n",
              " [948, 0],\n",
              " [949, 0],\n",
              " [950, 0],\n",
              " [951, 1],\n",
              " [952, 0],\n",
              " [953, 0],\n",
              " [954, 0],\n",
              " [955, 0],\n",
              " [956, 0],\n",
              " [957, 1],\n",
              " [958, 1],\n",
              " [959, 0],\n",
              " [960, 0],\n",
              " [961, 1],\n",
              " [962, 1],\n",
              " [963, 0],\n",
              " [964, 1],\n",
              " [965, 0],\n",
              " [966, 1],\n",
              " [967, 0],\n",
              " [968, 0],\n",
              " [969, 1],\n",
              " [970, 0],\n",
              " [971, 1],\n",
              " [972, 1],\n",
              " [973, 0],\n",
              " [974, 0],\n",
              " [975, 0],\n",
              " [976, 0],\n",
              " [977, 0],\n",
              " [978, 1],\n",
              " [979, 1],\n",
              " [980, 1],\n",
              " [981, 1],\n",
              " [982, 0],\n",
              " [983, 0],\n",
              " [984, 1],\n",
              " [985, 0],\n",
              " [986, 1],\n",
              " [987, 0],\n",
              " [988, 1],\n",
              " [989, 0],\n",
              " [990, 1],\n",
              " [991, 0],\n",
              " [992, 1],\n",
              " [993, 0],\n",
              " [994, 0],\n",
              " [995, 0],\n",
              " [996, 1],\n",
              " [997, 0],\n",
              " [998, 0],\n",
              " [999, 0],\n",
              " [1000, 0],\n",
              " [1001, 0],\n",
              " [1002, 0],\n",
              " [1003, 0],\n",
              " [1004, 1],\n",
              " [1005, 0],\n",
              " [1006, 1],\n",
              " [1007, 0],\n",
              " [1008, 0],\n",
              " [1009, 1],\n",
              " [1010, 1],\n",
              " [1011, 1],\n",
              " [1012, 1],\n",
              " [1013, 0],\n",
              " [1014, 1],\n",
              " [1015, 0],\n",
              " [1016, 0],\n",
              " [1017, 1],\n",
              " [1018, 0],\n",
              " [1019, 1],\n",
              " [1020, 0],\n",
              " [1021, 0],\n",
              " [1022, 0],\n",
              " [1023, 0],\n",
              " [1024, 0],\n",
              " [1025, 0],\n",
              " [1026, 0],\n",
              " [1027, 0],\n",
              " [1028, 0],\n",
              " [1029, 0],\n",
              " [1030, 1],\n",
              " [1031, 0],\n",
              " [1032, 0],\n",
              " [1033, 1],\n",
              " [1034, 0],\n",
              " [1035, 0],\n",
              " [1036, 0],\n",
              " [1037, 0],\n",
              " [1038, 0],\n",
              " [1039, 0],\n",
              " [1040, 0],\n",
              " [1041, 0],\n",
              " [1042, 1],\n",
              " [1043, 0],\n",
              " [1044, 0],\n",
              " [1045, 1],\n",
              " [1046, 0],\n",
              " [1047, 0],\n",
              " [1048, 1],\n",
              " [1049, 1],\n",
              " [1050, 0],\n",
              " [1051, 1],\n",
              " [1052, 0],\n",
              " [1053, 1],\n",
              " [1054, 1],\n",
              " [1055, 0],\n",
              " [1056, 0],\n",
              " [1057, 0],\n",
              " [1058, 0],\n",
              " [1059, 0],\n",
              " [1060, 1],\n",
              " [1061, 0],\n",
              " [1062, 0],\n",
              " [1063, 0],\n",
              " [1064, 0],\n",
              " [1065, 0],\n",
              " [1066, 0],\n",
              " [1067, 1],\n",
              " [1068, 1],\n",
              " [1069, 1],\n",
              " [1070, 1],\n",
              " [1071, 1],\n",
              " [1072, 0],\n",
              " [1073, 1],\n",
              " [1074, 1],\n",
              " [1075, 0],\n",
              " [1076, 1],\n",
              " [1077, 0],\n",
              " [1078, 1],\n",
              " [1079, 0],\n",
              " [1080, 0],\n",
              " [1081, 0],\n",
              " [1082, 0],\n",
              " [1083, 0],\n",
              " [1084, 0],\n",
              " [1085, 0],\n",
              " [1086, 1],\n",
              " [1087, 0],\n",
              " [1088, 1],\n",
              " [1089, 1],\n",
              " [1090, 0],\n",
              " [1091, 0],\n",
              " [1092, 1],\n",
              " [1093, 1],\n",
              " [1094, 0],\n",
              " [1095, 1],\n",
              " [1096, 0],\n",
              " [1097, 0],\n",
              " [1098, 0],\n",
              " [1099, 0],\n",
              " [1100, 1],\n",
              " [1101, 0],\n",
              " [1102, 0],\n",
              " [1103, 0],\n",
              " [1104, 0],\n",
              " [1105, 1],\n",
              " [1106, 0],\n",
              " [1107, 0],\n",
              " [1108, 1],\n",
              " [1109, 0],\n",
              " [1110, 1],\n",
              " [1111, 0],\n",
              " [1112, 1],\n",
              " [1113, 0],\n",
              " [1114, 1],\n",
              " [1115, 0],\n",
              " [1116, 1],\n",
              " [1117, 1],\n",
              " [1118, 0],\n",
              " [1119, 1],\n",
              " [1120, 0],\n",
              " [1121, 0],\n",
              " [1122, 0],\n",
              " [1123, 1],\n",
              " [1124, 0],\n",
              " [1125, 0],\n",
              " [1126, 1],\n",
              " [1127, 0],\n",
              " [1128, 0],\n",
              " [1129, 0],\n",
              " [1130, 1],\n",
              " [1131, 1],\n",
              " [1132, 1],\n",
              " [1133, 1],\n",
              " [1134, 0],\n",
              " [1135, 0],\n",
              " [1136, 0],\n",
              " [1137, 1],\n",
              " [1138, 1],\n",
              " [1139, 0],\n",
              " [1140, 1],\n",
              " [1141, 0],\n",
              " [1142, 1],\n",
              " [1143, 0],\n",
              " [1144, 1],\n",
              " [1145, 0],\n",
              " [1146, 0],\n",
              " [1147, 0],\n",
              " [1148, 0],\n",
              " [1149, 0],\n",
              " [1150, 1],\n",
              " [1151, 0],\n",
              " [1152, 0],\n",
              " [1153, 0],\n",
              " [1154, 1],\n",
              " [1155, 1],\n",
              " [1156, 0],\n",
              " [1157, 0],\n",
              " [1158, 0],\n",
              " [1159, 0],\n",
              " [1160, 1],\n",
              " [1161, 0],\n",
              " [1162, 0],\n",
              " [1163, 0],\n",
              " [1164, 1],\n",
              " [1165, 1],\n",
              " [1166, 0],\n",
              " [1167, 1],\n",
              " [1168, 0],\n",
              " [1169, 0],\n",
              " [1170, 0],\n",
              " [1171, 0],\n",
              " [1172, 0],\n",
              " [1173, 1],\n",
              " [1174, 1],\n",
              " [1175, 1],\n",
              " [1176, 1],\n",
              " [1177, 0],\n",
              " [1178, 0],\n",
              " [1179, 1],\n",
              " [1180, 0],\n",
              " [1181, 0],\n",
              " [1182, 0],\n",
              " [1183, 0],\n",
              " [1184, 0],\n",
              " [1185, 0],\n",
              " [1186, 0],\n",
              " [1187, 0],\n",
              " [1188, 1],\n",
              " [1189, 0],\n",
              " [1190, 0],\n",
              " [1191, 0],\n",
              " [1192, 0],\n",
              " [1193, 0],\n",
              " [1194, 0],\n",
              " [1195, 0],\n",
              " [1196, 1],\n",
              " [1197, 1],\n",
              " [1198, 1],\n",
              " [1199, 1],\n",
              " [1200, 0],\n",
              " [1201, 0],\n",
              " [1202, 0],\n",
              " [1203, 0],\n",
              " [1204, 0],\n",
              " [1205, 0],\n",
              " [1206, 1],\n",
              " [1207, 1],\n",
              " [1208, 0],\n",
              " [1209, 0],\n",
              " [1210, 0],\n",
              " [1211, 0],\n",
              " [1212, 0],\n",
              " [1213, 0],\n",
              " [1214, 0],\n",
              " [1215, 0],\n",
              " [1216, 1],\n",
              " [1217, 0],\n",
              " [1218, 1],\n",
              " [1219, 0],\n",
              " [1220, 0],\n",
              " [1221, 0],\n",
              " [1222, 1],\n",
              " [1223, 0],\n",
              " [1224, 0],\n",
              " [1225, 1],\n",
              " [1226, 0],\n",
              " [1227, 0],\n",
              " [1228, 1],\n",
              " [1229, 0],\n",
              " [1230, 0],\n",
              " [1231, 0],\n",
              " [1232, 0],\n",
              " [1233, 0],\n",
              " [1234, 0],\n",
              " [1235, 1],\n",
              " [1236, 0],\n",
              " [1237, 1],\n",
              " [1238, 0],\n",
              " [1239, 0],\n",
              " [1240, 0],\n",
              " [1241, 1],\n",
              " [1242, 1],\n",
              " [1243, 0],\n",
              " [1244, 0],\n",
              " [1245, 0],\n",
              " [1246, 1],\n",
              " [1247, 0],\n",
              " [1248, 1],\n",
              " [1249, 0],\n",
              " [1250, 0],\n",
              " [1251, 0],\n",
              " [1252, 0],\n",
              " [1253, 1],\n",
              " [1254, 1],\n",
              " [1255, 0],\n",
              " [1256, 1],\n",
              " [1257, 0],\n",
              " [1258, 0],\n",
              " [1259, 0],\n",
              " [1260, 1],\n",
              " [1261, 0],\n",
              " [1262, 0],\n",
              " [1263, 1],\n",
              " [1264, 0],\n",
              " [1265, 0],\n",
              " [1266, 1],\n",
              " [1267, 1],\n",
              " [1268, 0],\n",
              " [1269, 0],\n",
              " [1270, 0],\n",
              " [1271, 0],\n",
              " [1272, 0],\n",
              " [1273, 0],\n",
              " [1274, 1],\n",
              " [1275, 0],\n",
              " [1276, 0],\n",
              " [1277, 1],\n",
              " [1278, 0],\n",
              " [1279, 0],\n",
              " [1280, 0],\n",
              " [1281, 0],\n",
              " [1282, 0],\n",
              " [1283, 1],\n",
              " [1284, 0],\n",
              " [1285, 0],\n",
              " [1286, 0],\n",
              " [1287, 1],\n",
              " [1288, 0],\n",
              " [1289, 1],\n",
              " [1290, 0],\n",
              " [1291, 0],\n",
              " [1292, 1],\n",
              " [1293, 0],\n",
              " [1294, 1],\n",
              " [1295, 0],\n",
              " [1296, 1],\n",
              " [1297, 0],\n",
              " [1298, 0],\n",
              " [1299, 0],\n",
              " [1300, 0],\n",
              " [1301, 1],\n",
              " [1302, 1],\n",
              " [1303, 1],\n",
              " [1304, 1],\n",
              " [1305, 0],\n",
              " [1306, 1],\n",
              " [1307, 0],\n",
              " [1308, 0],\n",
              " [1309, 1]]"
            ]
          },
          "metadata": {},
          "execution_count": 142
        }
      ]
    },
    {
      "cell_type": "code",
      "source": [
        "resposta_segunda = pd.DataFrame(data, columns=['PassengerId', 'Survived'])\n",
        "resposta_segunda"
      ],
      "metadata": {
        "colab": {
          "base_uri": "https://localhost:8080/",
          "height": 424
        },
        "id": "BmE9CKKKHSui",
        "outputId": "0d794cbf-5d8e-4450-9f5f-d97611e4e344"
      },
      "execution_count": 143,
      "outputs": [
        {
          "output_type": "execute_result",
          "data": {
            "text/plain": [
              "     PassengerId  Survived\n",
              "0            892         0\n",
              "1            893         0\n",
              "2            894         0\n",
              "3            895         0\n",
              "4            896         0\n",
              "..           ...       ...\n",
              "413         1305         0\n",
              "414         1306         1\n",
              "415         1307         0\n",
              "416         1308         0\n",
              "417         1309         1\n",
              "\n",
              "[418 rows x 2 columns]"
            ],
            "text/html": [
              "\n",
              "  <div id=\"df-5eff847d-6e2c-4fe9-ae81-237adf41eb42\">\n",
              "    <div class=\"colab-df-container\">\n",
              "      <div>\n",
              "<style scoped>\n",
              "    .dataframe tbody tr th:only-of-type {\n",
              "        vertical-align: middle;\n",
              "    }\n",
              "\n",
              "    .dataframe tbody tr th {\n",
              "        vertical-align: top;\n",
              "    }\n",
              "\n",
              "    .dataframe thead th {\n",
              "        text-align: right;\n",
              "    }\n",
              "</style>\n",
              "<table border=\"1\" class=\"dataframe\">\n",
              "  <thead>\n",
              "    <tr style=\"text-align: right;\">\n",
              "      <th></th>\n",
              "      <th>PassengerId</th>\n",
              "      <th>Survived</th>\n",
              "    </tr>\n",
              "  </thead>\n",
              "  <tbody>\n",
              "    <tr>\n",
              "      <th>0</th>\n",
              "      <td>892</td>\n",
              "      <td>0</td>\n",
              "    </tr>\n",
              "    <tr>\n",
              "      <th>1</th>\n",
              "      <td>893</td>\n",
              "      <td>0</td>\n",
              "    </tr>\n",
              "    <tr>\n",
              "      <th>2</th>\n",
              "      <td>894</td>\n",
              "      <td>0</td>\n",
              "    </tr>\n",
              "    <tr>\n",
              "      <th>3</th>\n",
              "      <td>895</td>\n",
              "      <td>0</td>\n",
              "    </tr>\n",
              "    <tr>\n",
              "      <th>4</th>\n",
              "      <td>896</td>\n",
              "      <td>0</td>\n",
              "    </tr>\n",
              "    <tr>\n",
              "      <th>...</th>\n",
              "      <td>...</td>\n",
              "      <td>...</td>\n",
              "    </tr>\n",
              "    <tr>\n",
              "      <th>413</th>\n",
              "      <td>1305</td>\n",
              "      <td>0</td>\n",
              "    </tr>\n",
              "    <tr>\n",
              "      <th>414</th>\n",
              "      <td>1306</td>\n",
              "      <td>1</td>\n",
              "    </tr>\n",
              "    <tr>\n",
              "      <th>415</th>\n",
              "      <td>1307</td>\n",
              "      <td>0</td>\n",
              "    </tr>\n",
              "    <tr>\n",
              "      <th>416</th>\n",
              "      <td>1308</td>\n",
              "      <td>0</td>\n",
              "    </tr>\n",
              "    <tr>\n",
              "      <th>417</th>\n",
              "      <td>1309</td>\n",
              "      <td>1</td>\n",
              "    </tr>\n",
              "  </tbody>\n",
              "</table>\n",
              "<p>418 rows × 2 columns</p>\n",
              "</div>\n",
              "      <button class=\"colab-df-convert\" onclick=\"convertToInteractive('df-5eff847d-6e2c-4fe9-ae81-237adf41eb42')\"\n",
              "              title=\"Convert this dataframe to an interactive table.\"\n",
              "              style=\"display:none;\">\n",
              "        \n",
              "  <svg xmlns=\"http://www.w3.org/2000/svg\" height=\"24px\"viewBox=\"0 0 24 24\"\n",
              "       width=\"24px\">\n",
              "    <path d=\"M0 0h24v24H0V0z\" fill=\"none\"/>\n",
              "    <path d=\"M18.56 5.44l.94 2.06.94-2.06 2.06-.94-2.06-.94-.94-2.06-.94 2.06-2.06.94zm-11 1L8.5 8.5l.94-2.06 2.06-.94-2.06-.94L8.5 2.5l-.94 2.06-2.06.94zm10 10l.94 2.06.94-2.06 2.06-.94-2.06-.94-.94-2.06-.94 2.06-2.06.94z\"/><path d=\"M17.41 7.96l-1.37-1.37c-.4-.4-.92-.59-1.43-.59-.52 0-1.04.2-1.43.59L10.3 9.45l-7.72 7.72c-.78.78-.78 2.05 0 2.83L4 21.41c.39.39.9.59 1.41.59.51 0 1.02-.2 1.41-.59l7.78-7.78 2.81-2.81c.8-.78.8-2.07 0-2.86zM5.41 20L4 18.59l7.72-7.72 1.47 1.35L5.41 20z\"/>\n",
              "  </svg>\n",
              "      </button>\n",
              "      \n",
              "  <style>\n",
              "    .colab-df-container {\n",
              "      display:flex;\n",
              "      flex-wrap:wrap;\n",
              "      gap: 12px;\n",
              "    }\n",
              "\n",
              "    .colab-df-convert {\n",
              "      background-color: #E8F0FE;\n",
              "      border: none;\n",
              "      border-radius: 50%;\n",
              "      cursor: pointer;\n",
              "      display: none;\n",
              "      fill: #1967D2;\n",
              "      height: 32px;\n",
              "      padding: 0 0 0 0;\n",
              "      width: 32px;\n",
              "    }\n",
              "\n",
              "    .colab-df-convert:hover {\n",
              "      background-color: #E2EBFA;\n",
              "      box-shadow: 0px 1px 2px rgba(60, 64, 67, 0.3), 0px 1px 3px 1px rgba(60, 64, 67, 0.15);\n",
              "      fill: #174EA6;\n",
              "    }\n",
              "\n",
              "    [theme=dark] .colab-df-convert {\n",
              "      background-color: #3B4455;\n",
              "      fill: #D2E3FC;\n",
              "    }\n",
              "\n",
              "    [theme=dark] .colab-df-convert:hover {\n",
              "      background-color: #434B5C;\n",
              "      box-shadow: 0px 1px 3px 1px rgba(0, 0, 0, 0.15);\n",
              "      filter: drop-shadow(0px 1px 2px rgba(0, 0, 0, 0.3));\n",
              "      fill: #FFFFFF;\n",
              "    }\n",
              "  </style>\n",
              "\n",
              "      <script>\n",
              "        const buttonEl =\n",
              "          document.querySelector('#df-5eff847d-6e2c-4fe9-ae81-237adf41eb42 button.colab-df-convert');\n",
              "        buttonEl.style.display =\n",
              "          google.colab.kernel.accessAllowed ? 'block' : 'none';\n",
              "\n",
              "        async function convertToInteractive(key) {\n",
              "          const element = document.querySelector('#df-5eff847d-6e2c-4fe9-ae81-237adf41eb42');\n",
              "          const dataTable =\n",
              "            await google.colab.kernel.invokeFunction('convertToInteractive',\n",
              "                                                     [key], {});\n",
              "          if (!dataTable) return;\n",
              "\n",
              "          const docLinkHtml = 'Like what you see? Visit the ' +\n",
              "            '<a target=\"_blank\" href=https://colab.research.google.com/notebooks/data_table.ipynb>data table notebook</a>'\n",
              "            + ' to learn more about interactive tables.';\n",
              "          element.innerHTML = '';\n",
              "          dataTable['output_type'] = 'display_data';\n",
              "          await google.colab.output.renderOutput(dataTable, element);\n",
              "          const docLink = document.createElement('div');\n",
              "          docLink.innerHTML = docLinkHtml;\n",
              "          element.appendChild(docLink);\n",
              "        }\n",
              "      </script>\n",
              "    </div>\n",
              "  </div>\n",
              "  "
            ]
          },
          "metadata": {},
          "execution_count": 143
        }
      ]
    },
    {
      "cell_type": "code",
      "source": [
        "resposta_segunda.to_csv(\"respostas_titanic_segunda1.csv\")"
      ],
      "metadata": {
        "id": "UOZcgKXxHTGS"
      },
      "execution_count": 144,
      "outputs": []
    },
    {
      "cell_type": "code",
      "source": [
        "from xgboost import XGBClassifier"
      ],
      "metadata": {
        "id": "1TI5ev6xZyvt"
      },
      "execution_count": null,
      "outputs": []
    },
    {
      "cell_type": "code",
      "source": [
        "arvores_poderosas = XGBClassifier(learning_rate=0.02,\n",
        "                                  n_estimators=100,\n",
        "                                  random_state=0,\n",
        "                                  gpu_id='0'\n",
        "                                  )\n",
        "arvores_poderosas.fit(x, y)\n",
        "previsoes_xgboost = arvores_poderosas.predict(x_teste)"
      ],
      "metadata": {
        "id": "ZLdqHVR7Z6D9"
      },
      "execution_count": null,
      "outputs": []
    },
    {
      "cell_type": "code",
      "source": [
        "previsoes_xgboost"
      ],
      "metadata": {
        "colab": {
          "base_uri": "https://localhost:8080/"
        },
        "id": "PaEkXQQlaL8O",
        "outputId": "6a195eca-f6db-48be-b645-a698da3c6fae"
      },
      "execution_count": null,
      "outputs": [
        {
          "output_type": "execute_result",
          "data": {
            "text/plain": [
              "array([0, 0, 0, 0, 1, 0, 1, 0, 1, 0, 0, 0, 1, 0, 1, 1, 0, 0, 1, 1, 0, 0,\n",
              "       1, 0, 1, 0, 1, 0, 0, 0, 0, 0, 0, 1, 0, 0, 1, 1, 0, 0, 0, 0, 0, 1,\n",
              "       1, 0, 0, 0, 1, 0, 0, 0, 1, 1, 0, 0, 0, 0, 0, 1, 0, 0, 0, 1, 0, 1,\n",
              "       1, 0, 0, 1, 1, 0, 1, 0, 1, 0, 0, 1, 0, 1, 1, 0, 0, 0, 0, 0, 1, 1,\n",
              "       1, 1, 1, 0, 1, 0, 0, 0, 1, 0, 1, 0, 1, 0, 0, 0, 1, 0, 0, 0, 0, 0,\n",
              "       0, 1, 1, 1, 1, 0, 0, 1, 1, 1, 1, 0, 1, 0, 0, 1, 0, 1, 0, 0, 0, 0,\n",
              "       1, 0, 0, 0, 0, 0, 1, 0, 0, 1, 0, 0, 0, 0, 0, 0, 0, 0, 1, 0, 0, 0,\n",
              "       0, 0, 1, 1, 0, 1, 1, 1, 1, 0, 0, 1, 0, 0, 1, 1, 0, 0, 0, 0, 0, 1,\n",
              "       1, 0, 1, 1, 0, 0, 1, 0, 1, 0, 1, 0, 0, 0, 0, 0, 0, 0, 0, 0, 0, 1,\n",
              "       0, 1, 1, 0, 0, 1, 0, 0, 1, 0, 1, 0, 0, 0, 0, 1, 0, 0, 1, 0, 1, 0,\n",
              "       1, 0, 1, 0, 1, 1, 0, 1, 0, 0, 0, 1, 0, 0, 0, 0, 0, 0, 1, 1, 1, 1,\n",
              "       0, 0, 0, 0, 1, 0, 1, 1, 1, 0, 1, 0, 0, 0, 0, 0, 1, 0, 0, 0, 1, 1,\n",
              "       0, 0, 0, 0, 1, 0, 0, 0, 1, 1, 0, 1, 0, 0, 0, 0, 1, 1, 1, 1, 1, 0,\n",
              "       0, 0, 0, 0, 0, 1, 0, 0, 0, 0, 1, 0, 0, 0, 0, 0, 0, 0, 1, 1, 0, 0,\n",
              "       0, 0, 0, 0, 0, 1, 1, 1, 0, 0, 0, 0, 0, 0, 0, 0, 1, 0, 1, 0, 0, 0,\n",
              "       1, 0, 0, 1, 0, 0, 0, 0, 0, 0, 0, 0, 0, 1, 0, 1, 0, 1, 0, 1, 1, 0,\n",
              "       0, 0, 1, 0, 1, 0, 0, 0, 0, 1, 1, 0, 1, 0, 0, 0, 1, 0, 0, 1, 0, 0,\n",
              "       1, 1, 1, 0, 0, 0, 0, 0, 1, 1, 0, 1, 0, 0, 0, 0, 0, 1, 0, 0, 0, 1,\n",
              "       0, 1, 0, 0, 1, 0, 1, 0, 0, 0, 0, 0, 1, 1, 1, 1, 1, 0, 1, 0, 0, 0])"
            ]
          },
          "metadata": {},
          "execution_count": 80
        }
      ]
    },
    {
      "cell_type": "code",
      "source": [
        "data_xgboost = []\n",
        "for i in range(418):\n",
        "  data_xgboost.append([i + 892, previsoes_xgboost[i]])\n",
        "data_xgboost"
      ],
      "metadata": {
        "colab": {
          "base_uri": "https://localhost:8080/"
        },
        "id": "CVTrLKVsaQOM",
        "outputId": "10a04a7d-1944-4a91-f1b3-39533a2fe3d3"
      },
      "execution_count": null,
      "outputs": [
        {
          "output_type": "execute_result",
          "data": {
            "text/plain": [
              "[[892, 0],\n",
              " [893, 0],\n",
              " [894, 0],\n",
              " [895, 0],\n",
              " [896, 1],\n",
              " [897, 0],\n",
              " [898, 1],\n",
              " [899, 0],\n",
              " [900, 1],\n",
              " [901, 0],\n",
              " [902, 0],\n",
              " [903, 0],\n",
              " [904, 1],\n",
              " [905, 0],\n",
              " [906, 1],\n",
              " [907, 1],\n",
              " [908, 0],\n",
              " [909, 0],\n",
              " [910, 1],\n",
              " [911, 1],\n",
              " [912, 0],\n",
              " [913, 0],\n",
              " [914, 1],\n",
              " [915, 0],\n",
              " [916, 1],\n",
              " [917, 0],\n",
              " [918, 1],\n",
              " [919, 0],\n",
              " [920, 0],\n",
              " [921, 0],\n",
              " [922, 0],\n",
              " [923, 0],\n",
              " [924, 0],\n",
              " [925, 1],\n",
              " [926, 0],\n",
              " [927, 0],\n",
              " [928, 1],\n",
              " [929, 1],\n",
              " [930, 0],\n",
              " [931, 0],\n",
              " [932, 0],\n",
              " [933, 0],\n",
              " [934, 0],\n",
              " [935, 1],\n",
              " [936, 1],\n",
              " [937, 0],\n",
              " [938, 0],\n",
              " [939, 0],\n",
              " [940, 1],\n",
              " [941, 0],\n",
              " [942, 0],\n",
              " [943, 0],\n",
              " [944, 1],\n",
              " [945, 1],\n",
              " [946, 0],\n",
              " [947, 0],\n",
              " [948, 0],\n",
              " [949, 0],\n",
              " [950, 0],\n",
              " [951, 1],\n",
              " [952, 0],\n",
              " [953, 0],\n",
              " [954, 0],\n",
              " [955, 1],\n",
              " [956, 0],\n",
              " [957, 1],\n",
              " [958, 1],\n",
              " [959, 0],\n",
              " [960, 0],\n",
              " [961, 1],\n",
              " [962, 1],\n",
              " [963, 0],\n",
              " [964, 1],\n",
              " [965, 0],\n",
              " [966, 1],\n",
              " [967, 0],\n",
              " [968, 0],\n",
              " [969, 1],\n",
              " [970, 0],\n",
              " [971, 1],\n",
              " [972, 1],\n",
              " [973, 0],\n",
              " [974, 0],\n",
              " [975, 0],\n",
              " [976, 0],\n",
              " [977, 0],\n",
              " [978, 1],\n",
              " [979, 1],\n",
              " [980, 1],\n",
              " [981, 1],\n",
              " [982, 1],\n",
              " [983, 0],\n",
              " [984, 1],\n",
              " [985, 0],\n",
              " [986, 0],\n",
              " [987, 0],\n",
              " [988, 1],\n",
              " [989, 0],\n",
              " [990, 1],\n",
              " [991, 0],\n",
              " [992, 1],\n",
              " [993, 0],\n",
              " [994, 0],\n",
              " [995, 0],\n",
              " [996, 1],\n",
              " [997, 0],\n",
              " [998, 0],\n",
              " [999, 0],\n",
              " [1000, 0],\n",
              " [1001, 0],\n",
              " [1002, 0],\n",
              " [1003, 1],\n",
              " [1004, 1],\n",
              " [1005, 1],\n",
              " [1006, 1],\n",
              " [1007, 0],\n",
              " [1008, 0],\n",
              " [1009, 1],\n",
              " [1010, 1],\n",
              " [1011, 1],\n",
              " [1012, 1],\n",
              " [1013, 0],\n",
              " [1014, 1],\n",
              " [1015, 0],\n",
              " [1016, 0],\n",
              " [1017, 1],\n",
              " [1018, 0],\n",
              " [1019, 1],\n",
              " [1020, 0],\n",
              " [1021, 0],\n",
              " [1022, 0],\n",
              " [1023, 0],\n",
              " [1024, 1],\n",
              " [1025, 0],\n",
              " [1026, 0],\n",
              " [1027, 0],\n",
              " [1028, 0],\n",
              " [1029, 0],\n",
              " [1030, 1],\n",
              " [1031, 0],\n",
              " [1032, 0],\n",
              " [1033, 1],\n",
              " [1034, 0],\n",
              " [1035, 0],\n",
              " [1036, 0],\n",
              " [1037, 0],\n",
              " [1038, 0],\n",
              " [1039, 0],\n",
              " [1040, 0],\n",
              " [1041, 0],\n",
              " [1042, 1],\n",
              " [1043, 0],\n",
              " [1044, 0],\n",
              " [1045, 0],\n",
              " [1046, 0],\n",
              " [1047, 0],\n",
              " [1048, 1],\n",
              " [1049, 1],\n",
              " [1050, 0],\n",
              " [1051, 1],\n",
              " [1052, 1],\n",
              " [1053, 1],\n",
              " [1054, 1],\n",
              " [1055, 0],\n",
              " [1056, 0],\n",
              " [1057, 1],\n",
              " [1058, 0],\n",
              " [1059, 0],\n",
              " [1060, 1],\n",
              " [1061, 1],\n",
              " [1062, 0],\n",
              " [1063, 0],\n",
              " [1064, 0],\n",
              " [1065, 0],\n",
              " [1066, 0],\n",
              " [1067, 1],\n",
              " [1068, 1],\n",
              " [1069, 0],\n",
              " [1070, 1],\n",
              " [1071, 1],\n",
              " [1072, 0],\n",
              " [1073, 0],\n",
              " [1074, 1],\n",
              " [1075, 0],\n",
              " [1076, 1],\n",
              " [1077, 0],\n",
              " [1078, 1],\n",
              " [1079, 0],\n",
              " [1080, 0],\n",
              " [1081, 0],\n",
              " [1082, 0],\n",
              " [1083, 0],\n",
              " [1084, 0],\n",
              " [1085, 0],\n",
              " [1086, 0],\n",
              " [1087, 0],\n",
              " [1088, 0],\n",
              " [1089, 1],\n",
              " [1090, 0],\n",
              " [1091, 1],\n",
              " [1092, 1],\n",
              " [1093, 0],\n",
              " [1094, 0],\n",
              " [1095, 1],\n",
              " [1096, 0],\n",
              " [1097, 0],\n",
              " [1098, 1],\n",
              " [1099, 0],\n",
              " [1100, 1],\n",
              " [1101, 0],\n",
              " [1102, 0],\n",
              " [1103, 0],\n",
              " [1104, 0],\n",
              " [1105, 1],\n",
              " [1106, 0],\n",
              " [1107, 0],\n",
              " [1108, 1],\n",
              " [1109, 0],\n",
              " [1110, 1],\n",
              " [1111, 0],\n",
              " [1112, 1],\n",
              " [1113, 0],\n",
              " [1114, 1],\n",
              " [1115, 0],\n",
              " [1116, 1],\n",
              " [1117, 1],\n",
              " [1118, 0],\n",
              " [1119, 1],\n",
              " [1120, 0],\n",
              " [1121, 0],\n",
              " [1122, 0],\n",
              " [1123, 1],\n",
              " [1124, 0],\n",
              " [1125, 0],\n",
              " [1126, 0],\n",
              " [1127, 0],\n",
              " [1128, 0],\n",
              " [1129, 0],\n",
              " [1130, 1],\n",
              " [1131, 1],\n",
              " [1132, 1],\n",
              " [1133, 1],\n",
              " [1134, 0],\n",
              " [1135, 0],\n",
              " [1136, 0],\n",
              " [1137, 0],\n",
              " [1138, 1],\n",
              " [1139, 0],\n",
              " [1140, 1],\n",
              " [1141, 1],\n",
              " [1142, 1],\n",
              " [1143, 0],\n",
              " [1144, 1],\n",
              " [1145, 0],\n",
              " [1146, 0],\n",
              " [1147, 0],\n",
              " [1148, 0],\n",
              " [1149, 0],\n",
              " [1150, 1],\n",
              " [1151, 0],\n",
              " [1152, 0],\n",
              " [1153, 0],\n",
              " [1154, 1],\n",
              " [1155, 1],\n",
              " [1156, 0],\n",
              " [1157, 0],\n",
              " [1158, 0],\n",
              " [1159, 0],\n",
              " [1160, 1],\n",
              " [1161, 0],\n",
              " [1162, 0],\n",
              " [1163, 0],\n",
              " [1164, 1],\n",
              " [1165, 1],\n",
              " [1166, 0],\n",
              " [1167, 1],\n",
              " [1168, 0],\n",
              " [1169, 0],\n",
              " [1170, 0],\n",
              " [1171, 0],\n",
              " [1172, 1],\n",
              " [1173, 1],\n",
              " [1174, 1],\n",
              " [1175, 1],\n",
              " [1176, 1],\n",
              " [1177, 0],\n",
              " [1178, 0],\n",
              " [1179, 0],\n",
              " [1180, 0],\n",
              " [1181, 0],\n",
              " [1182, 0],\n",
              " [1183, 1],\n",
              " [1184, 0],\n",
              " [1185, 0],\n",
              " [1186, 0],\n",
              " [1187, 0],\n",
              " [1188, 1],\n",
              " [1189, 0],\n",
              " [1190, 0],\n",
              " [1191, 0],\n",
              " [1192, 0],\n",
              " [1193, 0],\n",
              " [1194, 0],\n",
              " [1195, 0],\n",
              " [1196, 1],\n",
              " [1197, 1],\n",
              " [1198, 0],\n",
              " [1199, 0],\n",
              " [1200, 0],\n",
              " [1201, 0],\n",
              " [1202, 0],\n",
              " [1203, 0],\n",
              " [1204, 0],\n",
              " [1205, 1],\n",
              " [1206, 1],\n",
              " [1207, 1],\n",
              " [1208, 0],\n",
              " [1209, 0],\n",
              " [1210, 0],\n",
              " [1211, 0],\n",
              " [1212, 0],\n",
              " [1213, 0],\n",
              " [1214, 0],\n",
              " [1215, 0],\n",
              " [1216, 1],\n",
              " [1217, 0],\n",
              " [1218, 1],\n",
              " [1219, 0],\n",
              " [1220, 0],\n",
              " [1221, 0],\n",
              " [1222, 1],\n",
              " [1223, 0],\n",
              " [1224, 0],\n",
              " [1225, 1],\n",
              " [1226, 0],\n",
              " [1227, 0],\n",
              " [1228, 0],\n",
              " [1229, 0],\n",
              " [1230, 0],\n",
              " [1231, 0],\n",
              " [1232, 0],\n",
              " [1233, 0],\n",
              " [1234, 0],\n",
              " [1235, 1],\n",
              " [1236, 0],\n",
              " [1237, 1],\n",
              " [1238, 0],\n",
              " [1239, 1],\n",
              " [1240, 0],\n",
              " [1241, 1],\n",
              " [1242, 1],\n",
              " [1243, 0],\n",
              " [1244, 0],\n",
              " [1245, 0],\n",
              " [1246, 1],\n",
              " [1247, 0],\n",
              " [1248, 1],\n",
              " [1249, 0],\n",
              " [1250, 0],\n",
              " [1251, 0],\n",
              " [1252, 0],\n",
              " [1253, 1],\n",
              " [1254, 1],\n",
              " [1255, 0],\n",
              " [1256, 1],\n",
              " [1257, 0],\n",
              " [1258, 0],\n",
              " [1259, 0],\n",
              " [1260, 1],\n",
              " [1261, 0],\n",
              " [1262, 0],\n",
              " [1263, 1],\n",
              " [1264, 0],\n",
              " [1265, 0],\n",
              " [1266, 1],\n",
              " [1267, 1],\n",
              " [1268, 1],\n",
              " [1269, 0],\n",
              " [1270, 0],\n",
              " [1271, 0],\n",
              " [1272, 0],\n",
              " [1273, 0],\n",
              " [1274, 1],\n",
              " [1275, 1],\n",
              " [1276, 0],\n",
              " [1277, 1],\n",
              " [1278, 0],\n",
              " [1279, 0],\n",
              " [1280, 0],\n",
              " [1281, 0],\n",
              " [1282, 0],\n",
              " [1283, 1],\n",
              " [1284, 0],\n",
              " [1285, 0],\n",
              " [1286, 0],\n",
              " [1287, 1],\n",
              " [1288, 0],\n",
              " [1289, 1],\n",
              " [1290, 0],\n",
              " [1291, 0],\n",
              " [1292, 1],\n",
              " [1293, 0],\n",
              " [1294, 1],\n",
              " [1295, 0],\n",
              " [1296, 0],\n",
              " [1297, 0],\n",
              " [1298, 0],\n",
              " [1299, 0],\n",
              " [1300, 1],\n",
              " [1301, 1],\n",
              " [1302, 1],\n",
              " [1303, 1],\n",
              " [1304, 1],\n",
              " [1305, 0],\n",
              " [1306, 1],\n",
              " [1307, 0],\n",
              " [1308, 0],\n",
              " [1309, 0]]"
            ]
          },
          "metadata": {},
          "execution_count": 81
        }
      ]
    },
    {
      "cell_type": "code",
      "source": [
        "resposta_xgboost = pd.DataFrame(data_xgboost, columns=['PassengerId', 'Survived'])\n",
        "resposta_xgboost"
      ],
      "metadata": {
        "colab": {
          "base_uri": "https://localhost:8080/",
          "height": 424
        },
        "id": "GwzLb5UyahOQ",
        "outputId": "102793ff-26b8-4172-eda3-af5d54a2255e"
      },
      "execution_count": null,
      "outputs": [
        {
          "output_type": "execute_result",
          "data": {
            "text/plain": [
              "     PassengerId  Survived\n",
              "0            892         0\n",
              "1            893         0\n",
              "2            894         0\n",
              "3            895         0\n",
              "4            896         1\n",
              "..           ...       ...\n",
              "413         1305         0\n",
              "414         1306         1\n",
              "415         1307         0\n",
              "416         1308         0\n",
              "417         1309         0\n",
              "\n",
              "[418 rows x 2 columns]"
            ],
            "text/html": [
              "\n",
              "  <div id=\"df-addfb01c-d63b-4a7a-a44c-81146246279b\">\n",
              "    <div class=\"colab-df-container\">\n",
              "      <div>\n",
              "<style scoped>\n",
              "    .dataframe tbody tr th:only-of-type {\n",
              "        vertical-align: middle;\n",
              "    }\n",
              "\n",
              "    .dataframe tbody tr th {\n",
              "        vertical-align: top;\n",
              "    }\n",
              "\n",
              "    .dataframe thead th {\n",
              "        text-align: right;\n",
              "    }\n",
              "</style>\n",
              "<table border=\"1\" class=\"dataframe\">\n",
              "  <thead>\n",
              "    <tr style=\"text-align: right;\">\n",
              "      <th></th>\n",
              "      <th>PassengerId</th>\n",
              "      <th>Survived</th>\n",
              "    </tr>\n",
              "  </thead>\n",
              "  <tbody>\n",
              "    <tr>\n",
              "      <th>0</th>\n",
              "      <td>892</td>\n",
              "      <td>0</td>\n",
              "    </tr>\n",
              "    <tr>\n",
              "      <th>1</th>\n",
              "      <td>893</td>\n",
              "      <td>0</td>\n",
              "    </tr>\n",
              "    <tr>\n",
              "      <th>2</th>\n",
              "      <td>894</td>\n",
              "      <td>0</td>\n",
              "    </tr>\n",
              "    <tr>\n",
              "      <th>3</th>\n",
              "      <td>895</td>\n",
              "      <td>0</td>\n",
              "    </tr>\n",
              "    <tr>\n",
              "      <th>4</th>\n",
              "      <td>896</td>\n",
              "      <td>1</td>\n",
              "    </tr>\n",
              "    <tr>\n",
              "      <th>...</th>\n",
              "      <td>...</td>\n",
              "      <td>...</td>\n",
              "    </tr>\n",
              "    <tr>\n",
              "      <th>413</th>\n",
              "      <td>1305</td>\n",
              "      <td>0</td>\n",
              "    </tr>\n",
              "    <tr>\n",
              "      <th>414</th>\n",
              "      <td>1306</td>\n",
              "      <td>1</td>\n",
              "    </tr>\n",
              "    <tr>\n",
              "      <th>415</th>\n",
              "      <td>1307</td>\n",
              "      <td>0</td>\n",
              "    </tr>\n",
              "    <tr>\n",
              "      <th>416</th>\n",
              "      <td>1308</td>\n",
              "      <td>0</td>\n",
              "    </tr>\n",
              "    <tr>\n",
              "      <th>417</th>\n",
              "      <td>1309</td>\n",
              "      <td>0</td>\n",
              "    </tr>\n",
              "  </tbody>\n",
              "</table>\n",
              "<p>418 rows × 2 columns</p>\n",
              "</div>\n",
              "      <button class=\"colab-df-convert\" onclick=\"convertToInteractive('df-addfb01c-d63b-4a7a-a44c-81146246279b')\"\n",
              "              title=\"Convert this dataframe to an interactive table.\"\n",
              "              style=\"display:none;\">\n",
              "        \n",
              "  <svg xmlns=\"http://www.w3.org/2000/svg\" height=\"24px\"viewBox=\"0 0 24 24\"\n",
              "       width=\"24px\">\n",
              "    <path d=\"M0 0h24v24H0V0z\" fill=\"none\"/>\n",
              "    <path d=\"M18.56 5.44l.94 2.06.94-2.06 2.06-.94-2.06-.94-.94-2.06-.94 2.06-2.06.94zm-11 1L8.5 8.5l.94-2.06 2.06-.94-2.06-.94L8.5 2.5l-.94 2.06-2.06.94zm10 10l.94 2.06.94-2.06 2.06-.94-2.06-.94-.94-2.06-.94 2.06-2.06.94z\"/><path d=\"M17.41 7.96l-1.37-1.37c-.4-.4-.92-.59-1.43-.59-.52 0-1.04.2-1.43.59L10.3 9.45l-7.72 7.72c-.78.78-.78 2.05 0 2.83L4 21.41c.39.39.9.59 1.41.59.51 0 1.02-.2 1.41-.59l7.78-7.78 2.81-2.81c.8-.78.8-2.07 0-2.86zM5.41 20L4 18.59l7.72-7.72 1.47 1.35L5.41 20z\"/>\n",
              "  </svg>\n",
              "      </button>\n",
              "      \n",
              "  <style>\n",
              "    .colab-df-container {\n",
              "      display:flex;\n",
              "      flex-wrap:wrap;\n",
              "      gap: 12px;\n",
              "    }\n",
              "\n",
              "    .colab-df-convert {\n",
              "      background-color: #E8F0FE;\n",
              "      border: none;\n",
              "      border-radius: 50%;\n",
              "      cursor: pointer;\n",
              "      display: none;\n",
              "      fill: #1967D2;\n",
              "      height: 32px;\n",
              "      padding: 0 0 0 0;\n",
              "      width: 32px;\n",
              "    }\n",
              "\n",
              "    .colab-df-convert:hover {\n",
              "      background-color: #E2EBFA;\n",
              "      box-shadow: 0px 1px 2px rgba(60, 64, 67, 0.3), 0px 1px 3px 1px rgba(60, 64, 67, 0.15);\n",
              "      fill: #174EA6;\n",
              "    }\n",
              "\n",
              "    [theme=dark] .colab-df-convert {\n",
              "      background-color: #3B4455;\n",
              "      fill: #D2E3FC;\n",
              "    }\n",
              "\n",
              "    [theme=dark] .colab-df-convert:hover {\n",
              "      background-color: #434B5C;\n",
              "      box-shadow: 0px 1px 3px 1px rgba(0, 0, 0, 0.15);\n",
              "      filter: drop-shadow(0px 1px 2px rgba(0, 0, 0, 0.3));\n",
              "      fill: #FFFFFF;\n",
              "    }\n",
              "  </style>\n",
              "\n",
              "      <script>\n",
              "        const buttonEl =\n",
              "          document.querySelector('#df-addfb01c-d63b-4a7a-a44c-81146246279b button.colab-df-convert');\n",
              "        buttonEl.style.display =\n",
              "          google.colab.kernel.accessAllowed ? 'block' : 'none';\n",
              "\n",
              "        async function convertToInteractive(key) {\n",
              "          const element = document.querySelector('#df-addfb01c-d63b-4a7a-a44c-81146246279b');\n",
              "          const dataTable =\n",
              "            await google.colab.kernel.invokeFunction('convertToInteractive',\n",
              "                                                     [key], {});\n",
              "          if (!dataTable) return;\n",
              "\n",
              "          const docLinkHtml = 'Like what you see? Visit the ' +\n",
              "            '<a target=\"_blank\" href=https://colab.research.google.com/notebooks/data_table.ipynb>data table notebook</a>'\n",
              "            + ' to learn more about interactive tables.';\n",
              "          element.innerHTML = '';\n",
              "          dataTable['output_type'] = 'display_data';\n",
              "          await google.colab.output.renderOutput(dataTable, element);\n",
              "          const docLink = document.createElement('div');\n",
              "          docLink.innerHTML = docLinkHtml;\n",
              "          element.appendChild(docLink);\n",
              "        }\n",
              "      </script>\n",
              "    </div>\n",
              "  </div>\n",
              "  "
            ]
          },
          "metadata": {},
          "execution_count": 82
        }
      ]
    },
    {
      "cell_type": "code",
      "source": [
        "resposta_xgboost.to_csv(\"titanic_xgboost_4.csv\")"
      ],
      "metadata": {
        "id": "Zfs72XM6apq0"
      },
      "execution_count": null,
      "outputs": []
    }
  ]
}